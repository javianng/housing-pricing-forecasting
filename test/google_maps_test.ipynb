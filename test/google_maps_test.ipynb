{
 "cells": [
  {
   "cell_type": "code",
   "execution_count": null,
   "metadata": {},
   "outputs": [],
   "source": [
    "# install packages \n",
    "# !pip install -U googlemaps"
   ]
  },
  {
   "cell_type": "code",
   "execution_count": 2,
   "metadata": {},
   "outputs": [],
   "source": [
    "import googlemaps\n",
    "\n",
    "import os\n",
    "from dotenv import load_dotenv\n",
    "\n",
    "load_dotenv()\n",
    "\n",
    "\n",
    "gmaps = googlemaps.Client(key=os.environ.get(\"GOOGLE_MAPS_API\"))"
   ]
  },
  {
   "cell_type": "code",
   "execution_count": 28,
   "metadata": {},
   "outputs": [],
   "source": [
    "class DistanceFinder:\n",
    "    def __init__(self, origin, destination):\n",
    "        result = self.get_distance_between_two_locations(origin, destination)\n",
    "        self.distance = result[\"distance\"][\"value\"]\n",
    "        self.duration = result[\"duration\"][\"value\"]\n",
    "\n",
    "    def get_distance_between_two_locations(self, origin, destination):\n",
    "        result = gmaps.distance_matrix(\n",
    "            origins=[origin],\n",
    "            destinations=[destination],\n",
    "            mode=\"transit\" # assumption is that majority will use transit\n",
    "        )\n",
    "        return result[\"rows\"][0][\"elements\"][0]\n",
    "    \n",
    "    def __str__(self):\n",
    "        return f\"{self.distance} metres in {self.duration} seconds\""
   ]
  },
  {
   "cell_type": "code",
   "execution_count": 29,
   "metadata": {},
   "outputs": [
    {
     "name": "stdout",
     "output_type": "stream",
     "text": [
      "12346 metres in 977 seconds\n"
     ]
    }
   ],
   "source": [
    "sample_origin = (1.303560, 103.771260) # UTown\n",
    "sample_destination = (1.287953, 103.851784) # CBD \n",
    "\n",
    "print(DistanceFinder(sample_origin, sample_destination))"
   ]
  },
  {
   "cell_type": "code",
   "execution_count": null,
   "metadata": {},
   "outputs": [],
   "source": [
    "import pandas as pd\n",
    "import numpy as np"
   ]
  },
  {
   "cell_type": "code",
   "execution_count": null,
   "metadata": {},
   "outputs": [],
   "source": [
    "mrt_coordinates_df = pd.read_csv('mrt_coordinates_opening_dates.csv', index_col = 0)"
   ]
  }
 ],
 "metadata": {
  "kernelspec": {
   "display_name": "env",
   "language": "python",
   "name": "python3"
  },
  "language_info": {
   "codemirror_mode": {
    "name": "ipython",
    "version": 3
   },
   "file_extension": ".py",
   "mimetype": "text/x-python",
   "name": "python",
   "nbconvert_exporter": "python",
   "pygments_lexer": "ipython3",
   "version": "3.11.8"
  }
 },
 "nbformat": 4,
 "nbformat_minor": 2
}
