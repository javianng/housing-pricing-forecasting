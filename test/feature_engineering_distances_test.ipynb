{
 "cells": [
  {
   "cell_type": "markdown",
   "metadata": {},
   "source": [
    "The following notebook is to experiment the usage of Google Maps API, as well as other services, to query the distance between HDB flats and potential points of interests."
   ]
  },
  {
   "cell_type": "code",
   "execution_count": 1,
   "metadata": {},
   "outputs": [],
   "source": [
    "import requests\n",
    "import googlemaps\n",
    "import pandas as pd\n",
    "from dotenv import load_dotenv\n",
    "import os\n",
    "import geopandas as gpd\n",
    "from shapely.geometry import Point\n",
    "\n",
    "load_dotenv()\n",
    "API_KEY = os.getenv(\"GOOGLE_MAPS_API_KEY\")\n",
    "gmaps = googlemaps.Client(key=API_KEY)"
   ]
  },
  {
   "cell_type": "markdown",
   "metadata": {},
   "source": [
    "Since querying the coordinates of HDB flats using Google Maps can potentially incur high costs, we shall experiment with free services such as Nominatim API, a tool for geocoding with OpenStreetMap data"
   ]
  },
  {
   "cell_type": "code",
   "execution_count": 2,
   "metadata": {},
   "outputs": [
    {
     "name": "stdout",
     "output_type": "stream",
     "text": [
      "('1.3980551', '103.91549385189649')\n"
     ]
    }
   ],
   "source": [
    "def query_address(street):\n",
    "    url = \"https://nominatim.openstreetmap.org/search\"\n",
    "    params = {\n",
    "        \"street\": street,\n",
    "        \"format\": \"json\",\n",
    "        \"country\": \"Singapore\",\n",
    "        \"addressdetails\": 1\n",
    "    }\n",
    "\n",
    "    response = requests.get(url, params=params)\n",
    "    \n",
    "    if response.status_code == 200:\n",
    "        results = response.json()\n",
    "        if results:\n",
    "            # Extract latitude and longitude from the first result\n",
    "            lat = results[0]['lat']\n",
    "            lon = results[0]['lon']\n",
    "            return lat, lon\n",
    "        else:\n",
    "            return None, None\n",
    "    else:\n",
    "        print(\"API request failed:\", response.status_code)\n",
    "        return None, None\n",
    "\n",
    "print(query_address(\"647 PUNGGOL CTRL\")) "
   ]
  },
  {
   "cell_type": "markdown",
   "metadata": {},
   "source": [
    "Testing out the function on the first 5 rows of data in the HDB resale prices dataset:"
   ]
  },
  {
   "cell_type": "code",
   "execution_count": 4,
   "metadata": {},
   "outputs": [
    {
     "data": {
      "text/html": [
       "<div>\n",
       "<style scoped>\n",
       "    .dataframe tbody tr th:only-of-type {\n",
       "        vertical-align: middle;\n",
       "    }\n",
       "\n",
       "    .dataframe tbody tr th {\n",
       "        vertical-align: top;\n",
       "    }\n",
       "\n",
       "    .dataframe thead th {\n",
       "        text-align: right;\n",
       "    }\n",
       "</style>\n",
       "<table border=\"1\" class=\"dataframe\">\n",
       "  <thead>\n",
       "    <tr style=\"text-align: right;\">\n",
       "      <th></th>\n",
       "      <th>month</th>\n",
       "      <th>town</th>\n",
       "      <th>flat_type</th>\n",
       "      <th>block</th>\n",
       "      <th>street_name</th>\n",
       "      <th>storey_range</th>\n",
       "      <th>floor_area_sqm</th>\n",
       "      <th>flat_model</th>\n",
       "      <th>lease_commence_date</th>\n",
       "      <th>remaining_lease</th>\n",
       "      <th>resale_price</th>\n",
       "      <th>address</th>\n",
       "      <th>coordinates</th>\n",
       "    </tr>\n",
       "  </thead>\n",
       "  <tbody>\n",
       "    <tr>\n",
       "      <th>0</th>\n",
       "      <td>2015-01</td>\n",
       "      <td>ANG MO KIO</td>\n",
       "      <td>3 ROOM</td>\n",
       "      <td>174</td>\n",
       "      <td>ANG MO KIO AVE 4</td>\n",
       "      <td>07 TO 09</td>\n",
       "      <td>60.0</td>\n",
       "      <td>Improved</td>\n",
       "      <td>1986</td>\n",
       "      <td>70</td>\n",
       "      <td>255000.0</td>\n",
       "      <td>174 ANG MO KIO AVE 4</td>\n",
       "      <td>(1.380906, 103.8395363)</td>\n",
       "    </tr>\n",
       "    <tr>\n",
       "      <th>1</th>\n",
       "      <td>2015-01</td>\n",
       "      <td>ANG MO KIO</td>\n",
       "      <td>3 ROOM</td>\n",
       "      <td>541</td>\n",
       "      <td>ANG MO KIO AVE 10</td>\n",
       "      <td>01 TO 03</td>\n",
       "      <td>68.0</td>\n",
       "      <td>New Generation</td>\n",
       "      <td>1981</td>\n",
       "      <td>65</td>\n",
       "      <td>275000.0</td>\n",
       "      <td>541 ANG MO KIO AVE 10</td>\n",
       "      <td>(1.3739835500000002, 103.85559074965985)</td>\n",
       "    </tr>\n",
       "    <tr>\n",
       "      <th>2</th>\n",
       "      <td>2015-01</td>\n",
       "      <td>ANG MO KIO</td>\n",
       "      <td>3 ROOM</td>\n",
       "      <td>163</td>\n",
       "      <td>ANG MO KIO AVE 4</td>\n",
       "      <td>01 TO 03</td>\n",
       "      <td>69.0</td>\n",
       "      <td>New Generation</td>\n",
       "      <td>1980</td>\n",
       "      <td>64</td>\n",
       "      <td>285000.0</td>\n",
       "      <td>163 ANG MO KIO AVE 4</td>\n",
       "      <td>(1.3738461499999999, 103.83858854339786)</td>\n",
       "    </tr>\n",
       "    <tr>\n",
       "      <th>3</th>\n",
       "      <td>2015-01</td>\n",
       "      <td>ANG MO KIO</td>\n",
       "      <td>3 ROOM</td>\n",
       "      <td>446</td>\n",
       "      <td>ANG MO KIO AVE 10</td>\n",
       "      <td>01 TO 03</td>\n",
       "      <td>68.0</td>\n",
       "      <td>New Generation</td>\n",
       "      <td>1979</td>\n",
       "      <td>63</td>\n",
       "      <td>290000.0</td>\n",
       "      <td>446 ANG MO KIO AVE 10</td>\n",
       "      <td>(1.3677793999999999, 103.85533443841078)</td>\n",
       "    </tr>\n",
       "    <tr>\n",
       "      <th>4</th>\n",
       "      <td>2015-01</td>\n",
       "      <td>ANG MO KIO</td>\n",
       "      <td>3 ROOM</td>\n",
       "      <td>557</td>\n",
       "      <td>ANG MO KIO AVE 10</td>\n",
       "      <td>07 TO 09</td>\n",
       "      <td>68.0</td>\n",
       "      <td>New Generation</td>\n",
       "      <td>1980</td>\n",
       "      <td>64</td>\n",
       "      <td>290000.0</td>\n",
       "      <td>557 ANG MO KIO AVE 10</td>\n",
       "      <td>(1.37165465, 103.85775588826617)</td>\n",
       "    </tr>\n",
       "  </tbody>\n",
       "</table>\n",
       "</div>"
      ],
      "text/plain": [
       "     month        town flat_type block        street_name storey_range  \\\n",
       "0  2015-01  ANG MO KIO    3 ROOM   174   ANG MO KIO AVE 4     07 TO 09   \n",
       "1  2015-01  ANG MO KIO    3 ROOM   541  ANG MO KIO AVE 10     01 TO 03   \n",
       "2  2015-01  ANG MO KIO    3 ROOM   163   ANG MO KIO AVE 4     01 TO 03   \n",
       "3  2015-01  ANG MO KIO    3 ROOM   446  ANG MO KIO AVE 10     01 TO 03   \n",
       "4  2015-01  ANG MO KIO    3 ROOM   557  ANG MO KIO AVE 10     07 TO 09   \n",
       "\n",
       "   floor_area_sqm      flat_model  lease_commence_date  remaining_lease  \\\n",
       "0            60.0        Improved                 1986               70   \n",
       "1            68.0  New Generation                 1981               65   \n",
       "2            69.0  New Generation                 1980               64   \n",
       "3            68.0  New Generation                 1979               63   \n",
       "4            68.0  New Generation                 1980               64   \n",
       "\n",
       "   resale_price                address  \\\n",
       "0      255000.0   174 ANG MO KIO AVE 4   \n",
       "1      275000.0  541 ANG MO KIO AVE 10   \n",
       "2      285000.0   163 ANG MO KIO AVE 4   \n",
       "3      290000.0  446 ANG MO KIO AVE 10   \n",
       "4      290000.0  557 ANG MO KIO AVE 10   \n",
       "\n",
       "                                coordinates  \n",
       "0                   (1.380906, 103.8395363)  \n",
       "1  (1.3739835500000002, 103.85559074965985)  \n",
       "2  (1.3738461499999999, 103.83858854339786)  \n",
       "3  (1.3677793999999999, 103.85533443841078)  \n",
       "4          (1.37165465, 103.85775588826617)  "
      ]
     },
     "execution_count": 4,
     "metadata": {},
     "output_type": "execute_result"
    }
   ],
   "source": [
    "data = pd.read_csv(\"../data/ResaleFlatPrices/ResaleFlatPricesBasedonRegistrationDateFromJan2015toDec2016.csv\")\n",
    "\n",
    "# combine block and street name with space in between\n",
    "data['address'] = data['block'] + \" \" + data['street_name']\n",
    "test_data = data.head(5).copy()\n",
    "\n",
    "# create new columns for coordinates using query_address function\n",
    "test_data['coordinates'] = test_data['address'].apply(query_address)\n",
    "test_data"
   ]
  },
  {
   "cell_type": "markdown",
   "metadata": {},
   "source": [
    "Now we test out with the first row of data to get the distance between that HDB flat and an MRT Station (we use Ang Mo Kio Station since we know that the flat is in Ang Mo Kio) using Google Map's Distance Matrix API"
   ]
  },
  {
   "cell_type": "code",
   "execution_count": 5,
   "metadata": {},
   "outputs": [
    {
     "name": "stdout",
     "output_type": "stream",
     "text": [
      "The coordinates for Ang Mo Kio Station are latitude 1.3698269, longitude 103.8494387.\n"
     ]
    }
   ],
   "source": [
    "# create function to get coordinates of MRT stations\n",
    "def get_station_coordinates(station_name):\n",
    "    # Use the Nominatim API to search for the address\n",
    "    url = \"https://nominatim.openstreetmap.org/search\"\n",
    "    params = {\n",
    "        'q': station_name,\n",
    "        'format': 'json',\n",
    "        'limit': 1\n",
    "    }\n",
    "    \n",
    "    response = requests.get(url, params=params)\n",
    "    \n",
    "    if response.status_code == 200:\n",
    "        results = response.json()\n",
    "        if results:\n",
    "            # Extract latitude and longitude from the first result\n",
    "            lat = results[0]['lat']\n",
    "            lon = results[0]['lon']\n",
    "            return lat, lon\n",
    "        else:\n",
    "            return None, None\n",
    "    else:\n",
    "        print(\"API request failed:\", response.status_code)\n",
    "        return None, None\n",
    "\n",
    "# Example usage\n",
    "station_name = \"Ang Mo Kio Station\"\n",
    "lat, lon = get_station_coordinates(station_name)\n",
    "if lat and lon:\n",
    "    print(f\"The coordinates for {station_name} are latitude {lat}, longitude {lon}.\")\n",
    "else:\n",
    "    print(\"Coordinates could not be found.\")"
   ]
  },
  {
   "cell_type": "code",
   "execution_count": 6,
   "metadata": {},
   "outputs": [
    {
     "name": "stdout",
     "output_type": "stream",
     "text": [
      "{'destination_addresses': ['2795 Ang Mo Kio Ave 8, Singapore 569812'], 'origin_addresses': ['626 Ang Mo Kio Ave 4, Block 626, Singapore 560626'], 'rows': [{'elements': [{'distance': {'text': '2.6 km', 'value': 2606}, 'duration': {'text': '23 mins', 'value': 1357}, 'status': 'OK'}]}], 'status': 'OK'}\n"
     ]
    }
   ],
   "source": [
    "# get first row of data\n",
    "row = test_data.iloc[0]\n",
    "\n",
    "# create function to get distance from HDB flat to MRT using Google Maps Distance Matrix API\n",
    "def get_distance(row, station_name):\n",
    "    lat, lon = row['coordinates']\n",
    "    mrt_lat, mrt_lon = get_station_coordinates(station_name)\n",
    "    result = gmaps.distance_matrix((lat, lon), (mrt_lat , mrt_lon), mode=\"transit\")\n",
    "    return result\n",
    "\n",
    "print(get_distance(row, 'Ang Mo Kio Station'))"
   ]
  },
  {
   "cell_type": "markdown",
   "metadata": {},
   "source": [
    "Next, we test out other services (libraries/APIs) to see if it is able to achieve the same effect as Google Maps Distance Matrix API."
   ]
  },
  {
   "cell_type": "code",
   "execution_count": 7,
   "metadata": {},
   "outputs": [
    {
     "name": "stdout",
     "output_type": "stream",
     "text": [
      "1.6520890761964901\n"
     ]
    }
   ],
   "source": [
    "# trying out Haversine Library\n",
    "from haversine import haversine, Unit\n",
    "\n",
    "start_lat, start_lon = row['coordinates']\n",
    "end_lat, end_lon = get_station_coordinates('Ang Mo Kio Station')\n",
    "# convert the above coordinates to float\n",
    "start_lat, start_lon = float(start_lat), float(start_lon)\n",
    "end_lat, end_lon = float(end_lat), float(end_lon)\n",
    "distance = haversine((start_lat, start_lon), (end_lat, end_lon), unit=Unit.KILOMETERS)\n",
    "\n",
    "print(distance) "
   ]
  },
  {
   "cell_type": "code",
   "execution_count": 8,
   "metadata": {},
   "outputs": [
    {
     "name": "stdout",
     "output_type": "stream",
     "text": [
      "Distance: 1.6477967640452793 kilometers\n"
     ]
    }
   ],
   "source": [
    "from pyproj import Geod\n",
    "\n",
    "geod = Geod(ellps='WGS84')\n",
    "# calculate the distance\n",
    "angle1, angle2, distance = geod.inv(start_lon, start_lat, end_lon, end_lat)\n",
    "\n",
    "print(f\"Distance: {distance / 1000} kilometers\")"
   ]
  },
  {
   "cell_type": "markdown",
   "metadata": {},
   "source": [
    "Using GeoPandas and Shapely (for geometric objects):"
   ]
  },
  {
   "cell_type": "code",
   "execution_count": 11,
   "metadata": {},
   "outputs": [
    {
     "name": "stdout",
     "output_type": "stream",
     "text": [
      "1.6482684524315863\n"
     ]
    }
   ],
   "source": [
    "def calculate_geospatial_distance(lat1, lon1, lat2, lon2):\n",
    "    # Create GeoSeries from the points\n",
    "    point1 = gpd.GeoSeries([Point(lon1, lat1)], crs=\"EPSG:4326\")\n",
    "    point2 = gpd.GeoSeries([Point(lon2, lat2)], crs=\"EPSG:4326\")\n",
    "    \n",
    "    # Reproject to a CRS that uses meters as distance units (e.g., World Mercator)\n",
    "    point1 = point1.to_crs(\"EPSG:3395\")\n",
    "    point2 = point2.to_crs(\"EPSG:3395\")\n",
    "    \n",
    "    # Calculate the distance between the points\n",
    "    distance = point1.distance(point2).iloc[0]  # distance in meters\n",
    "    \n",
    "    return distance/1000\n",
    "\n",
    "print(calculate_geospatial_distance(start_lat, start_lon, end_lat, end_lon))"
   ]
  },
  {
   "cell_type": "markdown",
   "metadata": {},
   "source": [
    "Using OpenRouteService API:"
   ]
  },
  {
   "cell_type": "code",
   "execution_count": 9,
   "metadata": {},
   "outputs": [
    {
     "name": "stdout",
     "output_type": "stream",
     "text": [
      "Distance: 2.1437 km\n"
     ]
    }
   ],
   "source": [
    "load_dotenv()\n",
    "API_KEY_2 = os.getenv(\"OPEN_ROUTE_SERVICE_API_KEY\")\n",
    "\n",
    "# Create the URL for the Directions API\n",
    "url = 'https://api.openrouteservice.org/v2/directions/driving-car'\n",
    "\n",
    "params = {\n",
    "    'api_key': API_KEY_2,\n",
    "    'start': f\"{start_lon},{start_lat}\",\n",
    "    'end': f\"{end_lon},{end_lat}\"\n",
    "}\n",
    "\n",
    "# Make the request\n",
    "response = requests.get(url, params=params)\n",
    "\n",
    "# Check if the request was successful\n",
    "if response.status_code == 200:\n",
    "    # Parse the JSON response\n",
    "    data = response.json()\n",
    "    \n",
    "    # Extract the distance from the response (in meters)\n",
    "    distance = data['features'][0]['properties']['segments'][0]['distance']\n",
    "    \n",
    "    # Print the distance\n",
    "    print(f\"Distance: {distance / 1000} km\")  # Convert meters to kilometers\n",
    "else:\n",
    "    print(\"Failed to retrieve data\", response.status_code)"
   ]
  },
  {
   "cell_type": "markdown",
   "metadata": {},
   "source": [
    "From the above, OpenRouteService provides the closest result to Google Map's DistanceMatrix as compared to `haversine` and `pyproj` libraries, since OpenRouteService incorporates geospatial context.\n",
    "\n",
    "However, due to the limitations of limited API requests, we can use GeoPandas and Shapely as potential alternatives."
   ]
  }
 ],
 "metadata": {
  "kernelspec": {
   "display_name": "Python 3",
   "language": "python",
   "name": "python3"
  },
  "language_info": {
   "codemirror_mode": {
    "name": "ipython",
    "version": 3
   },
   "file_extension": ".py",
   "mimetype": "text/x-python",
   "name": "python",
   "nbconvert_exporter": "python",
   "pygments_lexer": "ipython3",
   "version": "3.11.4"
  }
 },
 "nbformat": 4,
 "nbformat_minor": 2
}
