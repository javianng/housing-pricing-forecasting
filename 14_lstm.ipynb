{
  "cells": [
    {
      "cell_type": "markdown",
      "metadata": {
        "id": "jfN_t8sRYWkx"
      },
      "source": [
        "# Long Short Term Model "
      ]
    },
    {
      "cell_type": "markdown",
      "metadata": {
        "id": "Eb3eRY4VYWkw"
      },
      "source": [
        "## Importing Packages\n",
        "\n",
        "The code cell imports necessary libraries and modules for building a Long Short-Term Memory (LSTM) neural network model using Keras for a predictive modeling task. Here's a breakdown of the imports and actions taken:\n",
        "\n",
        "- `numpy` and `pandas` are imported for data manipulation.\n",
        "- `train_test_split` from `sklearn.model_selection` is imported for splitting the dataset into training and testing sets.\n",
        "- `StandardScaler` from `sklearn.preprocessing` is imported for feature scaling.\n",
        "- `Sequential`, `LSTM`, `Dense`, and `Dropout` are imported from `keras.models` and `keras.layers` for building the LSTM model architecture.\n",
        "- `Adam` is imported from `keras.optimizers` for setting up the optimization algorithm.\n",
        "- `EarlyStopping` is imported from `keras.callbacks` for early stopping during model training.\n",
        "- `matplotlib.pyplot` is imported for data visualization.\n",
        "- `mean_absolute_error`, `r2_score` and `mean_squared_error` are imported from `sklearn.metrics` for evaluating model performance.\n",
        "\n",
        "The current working directory path is printed using `os.getcwd()`.\n",
        "\n",
        "This code sets up the environment and imports necessary tools for building an LSTM model, indicating that the subsequent code likely involves data preprocessing\n"
      ]
    },
    {
      "cell_type": "code",
      "execution_count": 1,
      "metadata": {
        "colab": {
          "base_uri": "https://localhost:8080/"
        },
        "id": "B0yql6y5YWky",
        "outputId": "b7bb038d-ab00-4de8-f7f5-d70b89d6df3c"
      },
      "outputs": [
        {
          "name": "stdout",
          "output_type": "stream",
          "text": [
            "/Users/javian/TheCode/Housing-Price-Time-Series-Forecasting\n"
          ]
        }
      ],
      "source": [
        "import numpy as np\n",
        "import pandas as pd\n",
        "from sklearn.model_selection import train_test_split\n",
        "from sklearn.preprocessing import StandardScaler\n",
        "from keras.models import Sequential, load_model\n",
        "from keras.layers import LSTM, Dense, Dropout\n",
        "from keras.optimizers import Adam\n",
        "from keras.callbacks import EarlyStopping\n",
        "import matplotlib.pyplot as plt\n",
        "from sklearn.metrics import mean_absolute_error, mean_squared_error, r2_score\n",
        "\n",
        "import os\n",
        "\n",
        "print(os.getcwd())"
      ]
    },
    {
      "cell_type": "markdown",
      "metadata": {
        "id": "CTWcaGhLYWkz"
      },
      "source": [
        "## Dataset Examination"
      ]
    },
    {
      "cell_type": "code",
      "execution_count": null,
      "metadata": {
        "colab": {
          "base_uri": "https://localhost:8080/",
          "height": 290
        },
        "id": "hhBlaIzLYuhv",
        "outputId": "a99f8328-2f22-41b3-8451-5e151946817e"
      },
      "outputs": [],
      "source": [
        "# colab\n",
        "# from google.colab import drive\n",
        "\n",
        "# drive.mount('/content/gdrive')\n",
        "# data = pd.read_csv('gdrive/My Drive/data_nerual_network_models.csv')\n",
        "# data.head()"
      ]
    },
    {
      "cell_type": "code",
      "execution_count": 18,
      "metadata": {
        "id": "zNzvUGXlYWkz"
      },
      "outputs": [
        {
          "data": {
            "text/html": [
              "<div>\n",
              "<style scoped>\n",
              "    .dataframe tbody tr th:only-of-type {\n",
              "        vertical-align: middle;\n",
              "    }\n",
              "\n",
              "    .dataframe tbody tr th {\n",
              "        vertical-align: top;\n",
              "    }\n",
              "\n",
              "    .dataframe thead th {\n",
              "        text-align: right;\n",
              "    }\n",
              "</style>\n",
              "<table border=\"1\" class=\"dataframe\">\n",
              "  <thead>\n",
              "    <tr style=\"text-align: right;\">\n",
              "      <th></th>\n",
              "      <th>storey_range</th>\n",
              "      <th>resale_price</th>\n",
              "      <th>latitude</th>\n",
              "      <th>longitude</th>\n",
              "      <th>town_BEDOK</th>\n",
              "      <th>town_BISHAN</th>\n",
              "      <th>town_BUKIT BATOK</th>\n",
              "      <th>town_BUKIT MERAH</th>\n",
              "      <th>town_BUKIT PANJANG</th>\n",
              "      <th>town_BUKIT TIMAH</th>\n",
              "      <th>...</th>\n",
              "      <th>flat_model_Standard</th>\n",
              "      <th>flat_model_Terrace</th>\n",
              "      <th>flat_model_Type S1</th>\n",
              "      <th>flat_model_Type S2</th>\n",
              "      <th>floor_area_sqm</th>\n",
              "      <th>remaining_lease</th>\n",
              "      <th>sora</th>\n",
              "      <th>bto_supply_within_4km</th>\n",
              "      <th>distance2cbd</th>\n",
              "      <th>poi_vector_average</th>\n",
              "    </tr>\n",
              "  </thead>\n",
              "  <tbody>\n",
              "    <tr>\n",
              "      <th>0</th>\n",
              "      <td>2</td>\n",
              "      <td>12.449019</td>\n",
              "      <td>1.375097</td>\n",
              "      <td>103.837619</td>\n",
              "      <td>0</td>\n",
              "      <td>0</td>\n",
              "      <td>0</td>\n",
              "      <td>0</td>\n",
              "      <td>0</td>\n",
              "      <td>0</td>\n",
              "      <td>...</td>\n",
              "      <td>0</td>\n",
              "      <td>0</td>\n",
              "      <td>0</td>\n",
              "      <td>0</td>\n",
              "      <td>-1.546558</td>\n",
              "      <td>-0.345484</td>\n",
              "      <td>-0.802967</td>\n",
              "      <td>-0.833389</td>\n",
              "      <td>-0.524994</td>\n",
              "      <td>-0.375705</td>\n",
              "    </tr>\n",
              "    <tr>\n",
              "      <th>1</th>\n",
              "      <td>0</td>\n",
              "      <td>12.524526</td>\n",
              "      <td>1.373922</td>\n",
              "      <td>103.855621</td>\n",
              "      <td>0</td>\n",
              "      <td>0</td>\n",
              "      <td>0</td>\n",
              "      <td>0</td>\n",
              "      <td>0</td>\n",
              "      <td>0</td>\n",
              "      <td>...</td>\n",
              "      <td>0</td>\n",
              "      <td>0</td>\n",
              "      <td>0</td>\n",
              "      <td>0</td>\n",
              "      <td>-1.213944</td>\n",
              "      <td>-0.727997</td>\n",
              "      <td>-0.802967</td>\n",
              "      <td>-0.167970</td>\n",
              "      <td>-0.582020</td>\n",
              "      <td>0.258150</td>\n",
              "    </tr>\n",
              "    <tr>\n",
              "      <th>2</th>\n",
              "      <td>0</td>\n",
              "      <td>12.560244</td>\n",
              "      <td>1.373552</td>\n",
              "      <td>103.838169</td>\n",
              "      <td>0</td>\n",
              "      <td>0</td>\n",
              "      <td>0</td>\n",
              "      <td>0</td>\n",
              "      <td>0</td>\n",
              "      <td>0</td>\n",
              "      <td>...</td>\n",
              "      <td>0</td>\n",
              "      <td>0</td>\n",
              "      <td>0</td>\n",
              "      <td>0</td>\n",
              "      <td>-1.172367</td>\n",
              "      <td>-0.804500</td>\n",
              "      <td>-0.802967</td>\n",
              "      <td>-0.899113</td>\n",
              "      <td>-0.565965</td>\n",
              "      <td>-0.375705</td>\n",
              "    </tr>\n",
              "    <tr>\n",
              "      <th>3</th>\n",
              "      <td>0</td>\n",
              "      <td>12.577636</td>\n",
              "      <td>1.367761</td>\n",
              "      <td>103.855357</td>\n",
              "      <td>0</td>\n",
              "      <td>0</td>\n",
              "      <td>0</td>\n",
              "      <td>0</td>\n",
              "      <td>0</td>\n",
              "      <td>0</td>\n",
              "      <td>...</td>\n",
              "      <td>0</td>\n",
              "      <td>0</td>\n",
              "      <td>0</td>\n",
              "      <td>0</td>\n",
              "      <td>-1.213944</td>\n",
              "      <td>-0.881003</td>\n",
              "      <td>-0.802967</td>\n",
              "      <td>-0.296103</td>\n",
              "      <td>-0.738546</td>\n",
              "      <td>-0.133931</td>\n",
              "    </tr>\n",
              "    <tr>\n",
              "      <th>4</th>\n",
              "      <td>2</td>\n",
              "      <td>12.577636</td>\n",
              "      <td>1.371626</td>\n",
              "      <td>103.857736</td>\n",
              "      <td>0</td>\n",
              "      <td>0</td>\n",
              "      <td>0</td>\n",
              "      <td>0</td>\n",
              "      <td>0</td>\n",
              "      <td>0</td>\n",
              "      <td>...</td>\n",
              "      <td>0</td>\n",
              "      <td>0</td>\n",
              "      <td>0</td>\n",
              "      <td>0</td>\n",
              "      <td>-1.213944</td>\n",
              "      <td>-0.804500</td>\n",
              "      <td>-0.802967</td>\n",
              "      <td>-0.044030</td>\n",
              "      <td>-0.637076</td>\n",
              "      <td>0.258150</td>\n",
              "    </tr>\n",
              "  </tbody>\n",
              "</table>\n",
              "<p>5 rows × 50 columns</p>\n",
              "</div>"
            ],
            "text/plain": [
              "   storey_range  resale_price  latitude   longitude  town_BEDOK  town_BISHAN  \\\n",
              "0             2     12.449019  1.375097  103.837619           0            0   \n",
              "1             0     12.524526  1.373922  103.855621           0            0   \n",
              "2             0     12.560244  1.373552  103.838169           0            0   \n",
              "3             0     12.577636  1.367761  103.855357           0            0   \n",
              "4             2     12.577636  1.371626  103.857736           0            0   \n",
              "\n",
              "   town_BUKIT BATOK  town_BUKIT MERAH  town_BUKIT PANJANG  town_BUKIT TIMAH  \\\n",
              "0                 0                 0                   0                 0   \n",
              "1                 0                 0                   0                 0   \n",
              "2                 0                 0                   0                 0   \n",
              "3                 0                 0                   0                 0   \n",
              "4                 0                 0                   0                 0   \n",
              "\n",
              "   ...  flat_model_Standard  flat_model_Terrace  flat_model_Type S1  \\\n",
              "0  ...                    0                   0                   0   \n",
              "1  ...                    0                   0                   0   \n",
              "2  ...                    0                   0                   0   \n",
              "3  ...                    0                   0                   0   \n",
              "4  ...                    0                   0                   0   \n",
              "\n",
              "   flat_model_Type S2  floor_area_sqm  remaining_lease      sora  \\\n",
              "0                   0       -1.546558        -0.345484 -0.802967   \n",
              "1                   0       -1.213944        -0.727997 -0.802967   \n",
              "2                   0       -1.172367        -0.804500 -0.802967   \n",
              "3                   0       -1.213944        -0.881003 -0.802967   \n",
              "4                   0       -1.213944        -0.804500 -0.802967   \n",
              "\n",
              "   bto_supply_within_4km  distance2cbd  poi_vector_average  \n",
              "0              -0.833389     -0.524994           -0.375705  \n",
              "1              -0.167970     -0.582020            0.258150  \n",
              "2              -0.899113     -0.565965           -0.375705  \n",
              "3              -0.296103     -0.738546           -0.133931  \n",
              "4              -0.044030     -0.637076            0.258150  \n",
              "\n",
              "[5 rows x 50 columns]"
            ]
          },
          "execution_count": 18,
          "metadata": {},
          "output_type": "execute_result"
        }
      ],
      "source": [
        "# Load the dataset\n",
        "data = pd.read_csv(\"./data/train-test/data_nerual_network_models.csv\")\n",
        "\n",
        "data.head()"
      ]
    },
    {
      "cell_type": "code",
      "execution_count": 19,
      "metadata": {
        "colab": {
          "base_uri": "https://localhost:8080/"
        },
        "id": "MrKK-89FpIII",
        "outputId": "09a8f111-4b19-4209-88c5-651d4a9dc0ac"
      },
      "outputs": [
        {
          "name": "stdout",
          "output_type": "stream",
          "text": [
            "storey_range                           int64\n",
            "resale_price                         float64\n",
            "latitude                             float64\n",
            "longitude                            float64\n",
            "town_BEDOK                             int64\n",
            "town_BISHAN                            int64\n",
            "town_BUKIT BATOK                       int64\n",
            "town_BUKIT MERAH                       int64\n",
            "town_BUKIT PANJANG                     int64\n",
            "town_BUKIT TIMAH                       int64\n",
            "town_CENTRAL AREA                      int64\n",
            "town_CHOA CHU KANG                     int64\n",
            "town_CLEMENTI                          int64\n",
            "town_GEYLANG                           int64\n",
            "town_HOUGANG                           int64\n",
            "town_JURONG EAST                       int64\n",
            "town_JURONG WEST                       int64\n",
            "town_KALLANG/WHAMPOA                   int64\n",
            "town_MARINE PARADE                     int64\n",
            "town_PASIR RIS                         int64\n",
            "town_PUNGGOL                           int64\n",
            "town_QUEENSTOWN                        int64\n",
            "town_SEMBAWANG                         int64\n",
            "town_SENGKANG                          int64\n",
            "town_SERANGOON                         int64\n",
            "town_TAMPINES                          int64\n",
            "town_TOA PAYOH                         int64\n",
            "town_WOODLANDS                         int64\n",
            "town_YISHUN                            int64\n",
            "flat_model_Apartment                   int64\n",
            "flat_model_DBSS                        int64\n",
            "flat_model_Improved                    int64\n",
            "flat_model_Maisonette                  int64\n",
            "flat_model_Model A                     int64\n",
            "flat_model_Model A2                    int64\n",
            "flat_model_New Generation              int64\n",
            "flat_model_Others                      int64\n",
            "flat_model_Premium Apartment           int64\n",
            "flat_model_Premium Apartment Loft      int64\n",
            "flat_model_Simplified                  int64\n",
            "flat_model_Standard                    int64\n",
            "flat_model_Terrace                     int64\n",
            "flat_model_Type S1                     int64\n",
            "flat_model_Type S2                     int64\n",
            "floor_area_sqm                       float64\n",
            "remaining_lease                      float64\n",
            "sora                                 float64\n",
            "bto_supply_within_4km                float64\n",
            "distance2cbd                         float64\n",
            "poi_vector_average                   float64\n",
            "dtype: object\n"
          ]
        }
      ],
      "source": [
        "print(data.dtypes)"
      ]
    },
    {
      "cell_type": "markdown",
      "metadata": {},
      "source": [
        "## Data Preprocessing and Splitting\n",
        "\n",
        "This section preprocesses the data by normalizing numerical features and splitting the dataset into training, validation, and test sets. It also converts the data into numpy arrays for model training. Finally, it prints the data types and shapes of the training and validation sets for confirmation."
      ]
    },
    {
      "cell_type": "code",
      "execution_count": 21,
      "metadata": {
        "id": "jWAfczWUYWk0"
      },
      "outputs": [],
      "source": [
        "# Normalize numerical features\n",
        "scaler = StandardScaler()\n",
        "data[['floor_area_sqm', 'remaining_lease', 'sora', 'bto_supply_within_4km', 'distance2cbd']] = scaler.fit_transform(data[['floor_area_sqm', 'remaining_lease', 'sora', 'bto_supply_within_4km', 'distance2cbd']])"
      ]
    },
    {
      "cell_type": "code",
      "execution_count": 22,
      "metadata": {
        "id": "M-S2QMQvYWk0"
      },
      "outputs": [],
      "source": [
        "# Split dataset into features and target\n",
        "X = data.drop(columns=['resale_price'])\n",
        "y = data['resale_price']"
      ]
    },
    {
      "cell_type": "code",
      "execution_count": 23,
      "metadata": {
        "id": "4cTf-ryOYWk0"
      },
      "outputs": [],
      "source": [
        "# Split data into train, validation, and test sets\n",
        "X_train, X_temp, y_train, y_temp = train_test_split(X, y, test_size=0.3, random_state=42)\n",
        "X_val, X_test, y_val, y_test = train_test_split(X_temp, y_temp, test_size=0.5, random_state=42)\n",
        "\n",
        "# Convert data to numpy arrays\n",
        "X_train = np.array(X_train)\n",
        "X_val = np.array(X_val)\n",
        "X_test = np.array(X_test)\n",
        "y_train = np.array(y_train)\n",
        "y_val = np.array(y_val)\n",
        "y_test = np.array(y_test)"
      ]
    },
    {
      "cell_type": "code",
      "execution_count": 24,
      "metadata": {
        "colab": {
          "base_uri": "https://localhost:8080/"
        },
        "id": "VKP-ocnAYWk0",
        "outputId": "d13276cc-2247-416a-ef22-71f715bc3fc9"
      },
      "outputs": [
        {
          "name": "stdout",
          "output_type": "stream",
          "text": [
            "X_train dtype: float64\n",
            "y_train dtype: float64\n",
            "X_val dtype: float64\n",
            "y_val dtype: float64\n",
            "X_train shape: (144420, 49)\n",
            "y_train shape: (144420,)\n",
            "X_val shape: (30947, 49)\n",
            "y_val shape: (30947,)\n"
          ]
        }
      ],
      "source": [
        "print(\"X_train dtype:\", X_train.dtype)\n",
        "print(\"y_train dtype:\", y_train.dtype)\n",
        "print(\"X_val dtype:\", X_val.dtype)\n",
        "print(\"y_val dtype:\", y_val.dtype)\n",
        "print(\"X_train shape:\", X_train.shape)\n",
        "print(\"y_train shape:\", y_train.shape)\n",
        "print(\"X_val shape:\", X_val.shape)\n",
        "print(\"y_val shape:\", y_val.shape)"
      ]
    },
    {
      "cell_type": "markdown",
      "metadata": {},
      "source": [
        "## LSTM Model Training\n",
        "\n",
        "This section encompasses the training and evaluation of a Long Short-Term Memory (LSTM) neural network model for a predictive task. The LSTM model is constructed with three layers, each followed by dropout regularization to mitigate overfitting. The model is compiled using the Adam optimizer and mean squared error loss function. Early stopping is employed with a patience of 5 to monitor validation loss and prevent overfitting during training. The training process involves fitting the model to the training data for 100 epochs with a batch size of 32 and validating it on the validation set."
      ]
    },
    {
      "cell_type": "code",
      "execution_count": 9,
      "metadata": {
        "id": "TewqecWEYWk0"
      },
      "outputs": [
        {
          "name": "stderr",
          "output_type": "stream",
          "text": [
            "/Users/javian/anaconda3/lib/python3.11/site-packages/keras/src/layers/rnn/rnn.py:204: UserWarning: Do not pass an `input_shape`/`input_dim` argument to a layer. When using Sequential models, prefer using an `Input(shape)` object as the first layer in the model instead.\n",
            "  super().__init__(**kwargs)\n"
          ]
        }
      ],
      "source": [
        "# Define the LSTM model\n",
        "model = Sequential()\n",
        "model.add(LSTM(units=50, return_sequences=True, input_shape=(X_train.shape[1], 1)))\n",
        "model.add(Dropout(0.2))\n",
        "model.add(LSTM(units=50, return_sequences=True))\n",
        "model.add(Dropout(0.2))\n",
        "model.add(LSTM(units=50))\n",
        "model.add(Dropout(0.2))\n",
        "model.add(Dense(units=1))\n",
        "\n",
        "# Compile the model\n",
        "model.compile(optimizer='adam', loss='mean_squared_error')\n",
        "\n",
        "# Define early stopping to prevent overfitting\n",
        "early_stop = EarlyStopping(monitor='val_loss', patience=5, verbose=1)"
      ]
    },
    {
      "cell_type": "code",
      "execution_count": 10,
      "metadata": {
        "colab": {
          "base_uri": "https://localhost:8080/"
        },
        "id": "65CCZTpeYWk0",
        "outputId": "f5893f39-447b-4ced-997e-4bfabb3e0ff6"
      },
      "outputs": [
        {
          "name": "stdout",
          "output_type": "stream",
          "text": [
            "Epoch 1/100\n",
            "\u001b[1m4514/4514\u001b[0m \u001b[32m━━━━━━━━━━━━━━━━━━━━\u001b[0m\u001b[37m\u001b[0m \u001b[1m126s\u001b[0m 28ms/step - loss: 5.6379 - val_loss: 0.1080\n",
            "Epoch 2/100\n",
            "\u001b[1m4514/4514\u001b[0m \u001b[32m━━━━━━━━━━━━━━━━━━━━\u001b[0m\u001b[37m\u001b[0m \u001b[1m115s\u001b[0m 25ms/step - loss: 0.8661 - val_loss: 0.0740\n",
            "Epoch 3/100\n",
            "\u001b[1m4514/4514\u001b[0m \u001b[32m━━━━━━━━━━━━━━━━━━━━\u001b[0m\u001b[37m\u001b[0m \u001b[1m119s\u001b[0m 26ms/step - loss: 0.6261 - val_loss: 0.0248\n",
            "Epoch 4/100\n",
            "\u001b[1m4514/4514\u001b[0m \u001b[32m━━━━━━━━━━━━━━━━━━━━\u001b[0m\u001b[37m\u001b[0m \u001b[1m122s\u001b[0m 27ms/step - loss: 0.4752 - val_loss: 0.0309\n",
            "Epoch 5/100\n",
            "\u001b[1m4514/4514\u001b[0m \u001b[32m━━━━━━━━━━━━━━━━━━━━\u001b[0m\u001b[37m\u001b[0m \u001b[1m119s\u001b[0m 26ms/step - loss: 0.3481 - val_loss: 0.0325\n",
            "Epoch 6/100\n",
            "\u001b[1m4514/4514\u001b[0m \u001b[32m━━━━━━━━━━━━━━━━━━━━\u001b[0m\u001b[37m\u001b[0m \u001b[1m119s\u001b[0m 26ms/step - loss: 0.2413 - val_loss: 0.0182\n",
            "Epoch 7/100\n",
            "\u001b[1m4514/4514\u001b[0m \u001b[32m━━━━━━━━━━━━━━━━━━━━\u001b[0m\u001b[37m\u001b[0m \u001b[1m118s\u001b[0m 26ms/step - loss: 0.1636 - val_loss: 0.0172\n",
            "Epoch 8/100\n",
            "\u001b[1m4514/4514\u001b[0m \u001b[32m━━━━━━━━━━━━━━━━━━━━\u001b[0m\u001b[37m\u001b[0m \u001b[1m121s\u001b[0m 27ms/step - loss: 0.1028 - val_loss: 0.0173\n",
            "Epoch 9/100\n",
            "\u001b[1m4514/4514\u001b[0m \u001b[32m━━━━━━━━━━━━━━━━━━━━\u001b[0m\u001b[37m\u001b[0m \u001b[1m117s\u001b[0m 26ms/step - loss: 0.0621 - val_loss: 0.0157\n",
            "Epoch 10/100\n",
            "\u001b[1m4514/4514\u001b[0m \u001b[32m━━━━━━━━━━━━━━━━━━━━\u001b[0m\u001b[37m\u001b[0m \u001b[1m117s\u001b[0m 26ms/step - loss: 0.0365 - val_loss: 0.0142\n",
            "Epoch 11/100\n",
            "\u001b[1m4514/4514\u001b[0m \u001b[32m━━━━━━━━━━━━━━━━━━━━\u001b[0m\u001b[37m\u001b[0m \u001b[1m116s\u001b[0m 26ms/step - loss: 0.0228 - val_loss: 0.0145\n",
            "Epoch 12/100\n",
            "\u001b[1m4514/4514\u001b[0m \u001b[32m━━━━━━━━━━━━━━━━━━━━\u001b[0m\u001b[37m\u001b[0m \u001b[1m117s\u001b[0m 26ms/step - loss: 0.0177 - val_loss: 0.0132\n",
            "Epoch 13/100\n",
            "\u001b[1m4514/4514\u001b[0m \u001b[32m━━━━━━━━━━━━━━━━━━━━\u001b[0m\u001b[37m\u001b[0m \u001b[1m114s\u001b[0m 25ms/step - loss: 0.0163 - val_loss: 0.0125\n",
            "Epoch 14/100\n",
            "\u001b[1m4514/4514\u001b[0m \u001b[32m━━━━━━━━━━━━━━━━━━━━\u001b[0m\u001b[37m\u001b[0m \u001b[1m117s\u001b[0m 26ms/step - loss: 0.0150 - val_loss: 0.0131\n",
            "Epoch 15/100\n",
            "\u001b[1m4514/4514\u001b[0m \u001b[32m━━━━━━━━━━━━━━━━━━━━\u001b[0m\u001b[37m\u001b[0m \u001b[1m116s\u001b[0m 26ms/step - loss: 0.0145 - val_loss: 0.0113\n",
            "Epoch 16/100\n",
            "\u001b[1m4514/4514\u001b[0m \u001b[32m━━━━━━━━━━━━━━━━━━━━\u001b[0m\u001b[37m\u001b[0m \u001b[1m117s\u001b[0m 26ms/step - loss: 0.0138 - val_loss: 0.0110\n",
            "Epoch 17/100\n",
            "\u001b[1m4514/4514\u001b[0m \u001b[32m━━━━━━━━━━━━━━━━━━━━\u001b[0m\u001b[37m\u001b[0m \u001b[1m119s\u001b[0m 26ms/step - loss: 0.0133 - val_loss: 0.0107\n",
            "Epoch 18/100\n",
            "\u001b[1m4514/4514\u001b[0m \u001b[32m━━━━━━━━━━━━━━━━━━━━\u001b[0m\u001b[37m\u001b[0m \u001b[1m118s\u001b[0m 26ms/step - loss: 0.0129 - val_loss: 0.0110\n",
            "Epoch 19/100\n",
            "\u001b[1m4514/4514\u001b[0m \u001b[32m━━━━━━━━━━━━━━━━━━━━\u001b[0m\u001b[37m\u001b[0m \u001b[1m117s\u001b[0m 26ms/step - loss: 0.0124 - val_loss: 0.0100\n",
            "Epoch 20/100\n",
            "\u001b[1m4514/4514\u001b[0m \u001b[32m━━━━━━━━━━━━━━━━━━━━\u001b[0m\u001b[37m\u001b[0m \u001b[1m117s\u001b[0m 26ms/step - loss: 0.0119 - val_loss: 0.0101\n",
            "Epoch 21/100\n",
            "\u001b[1m4514/4514\u001b[0m \u001b[32m━━━━━━━━━━━━━━━━━━━━\u001b[0m\u001b[37m\u001b[0m \u001b[1m119s\u001b[0m 26ms/step - loss: 0.0116 - val_loss: 0.0094\n",
            "Epoch 22/100\n",
            "\u001b[1m4514/4514\u001b[0m \u001b[32m━━━━━━━━━━━━━━━━━━━━\u001b[0m\u001b[37m\u001b[0m \u001b[1m119s\u001b[0m 26ms/step - loss: 0.0115 - val_loss: 0.0098\n",
            "Epoch 23/100\n",
            "\u001b[1m4514/4514\u001b[0m \u001b[32m━━━━━━━━━━━━━━━━━━━━\u001b[0m\u001b[37m\u001b[0m \u001b[1m119s\u001b[0m 26ms/step - loss: 0.0112 - val_loss: 0.0093\n",
            "Epoch 24/100\n",
            "\u001b[1m4514/4514\u001b[0m \u001b[32m━━━━━━━━━━━━━━━━━━━━\u001b[0m\u001b[37m\u001b[0m \u001b[1m119s\u001b[0m 26ms/step - loss: 0.0110 - val_loss: 0.0099\n",
            "Epoch 25/100\n",
            "\u001b[1m4514/4514\u001b[0m \u001b[32m━━━━━━━━━━━━━━━━━━━━\u001b[0m\u001b[37m\u001b[0m \u001b[1m118s\u001b[0m 26ms/step - loss: 0.0108 - val_loss: 0.0104\n",
            "Epoch 26/100\n",
            "\u001b[1m4514/4514\u001b[0m \u001b[32m━━━━━━━━━━━━━━━━━━━━\u001b[0m\u001b[37m\u001b[0m \u001b[1m119s\u001b[0m 26ms/step - loss: 0.0107 - val_loss: 0.0093\n",
            "Epoch 27/100\n",
            "\u001b[1m4514/4514\u001b[0m \u001b[32m━━━━━━━━━━━━━━━━━━━━\u001b[0m\u001b[37m\u001b[0m \u001b[1m116s\u001b[0m 26ms/step - loss: 0.0106 - val_loss: 0.0090\n",
            "Epoch 28/100\n",
            "\u001b[1m4514/4514\u001b[0m \u001b[32m━━━━━━━━━━━━━━━━━━━━\u001b[0m\u001b[37m\u001b[0m \u001b[1m115s\u001b[0m 25ms/step - loss: 0.0103 - val_loss: 0.0087\n",
            "Epoch 29/100\n",
            "\u001b[1m4514/4514\u001b[0m \u001b[32m━━━━━━━━━━━━━━━━━━━━\u001b[0m\u001b[37m\u001b[0m \u001b[1m119s\u001b[0m 26ms/step - loss: 0.0103 - val_loss: 0.0088\n",
            "Epoch 30/100\n",
            "\u001b[1m4514/4514\u001b[0m \u001b[32m━━━━━━━━━━━━━━━━━━━━\u001b[0m\u001b[37m\u001b[0m \u001b[1m119s\u001b[0m 26ms/step - loss: 0.0100 - val_loss: 0.0089\n",
            "Epoch 31/100\n",
            "\u001b[1m4514/4514\u001b[0m \u001b[32m━━━━━━━━━━━━━━━━━━━━\u001b[0m\u001b[37m\u001b[0m \u001b[1m118s\u001b[0m 26ms/step - loss: 0.0100 - val_loss: 0.0089\n",
            "Epoch 32/100\n",
            "\u001b[1m4514/4514\u001b[0m \u001b[32m━━━━━━━━━━━━━━━━━━━━\u001b[0m\u001b[37m\u001b[0m \u001b[1m119s\u001b[0m 26ms/step - loss: 0.0100 - val_loss: 0.0085\n",
            "Epoch 33/100\n",
            "\u001b[1m4514/4514\u001b[0m \u001b[32m━━━━━━━━━━━━━━━━━━━━\u001b[0m\u001b[37m\u001b[0m \u001b[1m120s\u001b[0m 27ms/step - loss: 0.0098 - val_loss: 0.0083\n",
            "Epoch 34/100\n",
            "\u001b[1m4514/4514\u001b[0m \u001b[32m━━━━━━━━━━━━━━━━━━━━\u001b[0m\u001b[37m\u001b[0m \u001b[1m120s\u001b[0m 27ms/step - loss: 0.0098 - val_loss: 0.0082\n",
            "Epoch 35/100\n",
            "\u001b[1m4514/4514\u001b[0m \u001b[32m━━━━━━━━━━━━━━━━━━━━\u001b[0m\u001b[37m\u001b[0m \u001b[1m118s\u001b[0m 26ms/step - loss: 0.0097 - val_loss: 0.0079\n",
            "Epoch 36/100\n",
            "\u001b[1m4514/4514\u001b[0m \u001b[32m━━━━━━━━━━━━━━━━━━━━\u001b[0m\u001b[37m\u001b[0m \u001b[1m116s\u001b[0m 26ms/step - loss: 0.0096 - val_loss: 0.0083\n",
            "Epoch 37/100\n",
            "\u001b[1m4514/4514\u001b[0m \u001b[32m━━━━━━━━━━━━━━━━━━━━\u001b[0m\u001b[37m\u001b[0m \u001b[1m119s\u001b[0m 26ms/step - loss: 0.0094 - val_loss: 0.0082\n",
            "Epoch 38/100\n",
            "\u001b[1m4514/4514\u001b[0m \u001b[32m━━━━━━━━━━━━━━━━━━━━\u001b[0m\u001b[37m\u001b[0m \u001b[1m116s\u001b[0m 26ms/step - loss: 0.0094 - val_loss: 0.0078\n",
            "Epoch 39/100\n",
            "\u001b[1m4514/4514\u001b[0m \u001b[32m━━━━━━━━━━━━━━━━━━━━\u001b[0m\u001b[37m\u001b[0m \u001b[1m116s\u001b[0m 26ms/step - loss: 0.0093 - val_loss: 0.0079\n",
            "Epoch 40/100\n",
            "\u001b[1m4514/4514\u001b[0m \u001b[32m━━━━━━━━━━━━━━━━━━━━\u001b[0m\u001b[37m\u001b[0m \u001b[1m118s\u001b[0m 26ms/step - loss: 0.0093 - val_loss: 0.0083\n",
            "Epoch 41/100\n",
            "\u001b[1m4514/4514\u001b[0m \u001b[32m━━━━━━━━━━━━━━━━━━━━\u001b[0m\u001b[37m\u001b[0m \u001b[1m118s\u001b[0m 26ms/step - loss: 0.0092 - val_loss: 0.0081\n",
            "Epoch 42/100\n",
            "\u001b[1m4514/4514\u001b[0m \u001b[32m━━━━━━━━━━━━━━━━━━━━\u001b[0m\u001b[37m\u001b[0m \u001b[1m119s\u001b[0m 26ms/step - loss: 0.0091 - val_loss: 0.0076\n",
            "Epoch 43/100\n",
            "\u001b[1m4514/4514\u001b[0m \u001b[32m━━━━━━━━━━━━━━━━━━━━\u001b[0m\u001b[37m\u001b[0m \u001b[1m118s\u001b[0m 26ms/step - loss: 0.0090 - val_loss: 0.0082\n",
            "Epoch 44/100\n",
            "\u001b[1m4514/4514\u001b[0m \u001b[32m━━━━━━━━━━━━━━━━━━━━\u001b[0m\u001b[37m\u001b[0m \u001b[1m119s\u001b[0m 26ms/step - loss: 0.0090 - val_loss: 0.0076\n",
            "Epoch 45/100\n",
            "\u001b[1m4514/4514\u001b[0m \u001b[32m━━━━━━━━━━━━━━━━━━━━\u001b[0m\u001b[37m\u001b[0m \u001b[1m119s\u001b[0m 26ms/step - loss: 0.0091 - val_loss: 0.0079\n",
            "Epoch 46/100\n",
            "\u001b[1m4514/4514\u001b[0m \u001b[32m━━━━━━━━━━━━━━━━━━━━\u001b[0m\u001b[37m\u001b[0m \u001b[1m117s\u001b[0m 26ms/step - loss: 0.0089 - val_loss: 0.0075\n",
            "Epoch 47/100\n",
            "\u001b[1m4514/4514\u001b[0m \u001b[32m━━━━━━━━━━━━━━━━━━━━\u001b[0m\u001b[37m\u001b[0m \u001b[1m118s\u001b[0m 26ms/step - loss: 0.0089 - val_loss: 0.0074\n",
            "Epoch 48/100\n",
            "\u001b[1m4514/4514\u001b[0m \u001b[32m━━━━━━━━━━━━━━━━━━━━\u001b[0m\u001b[37m\u001b[0m \u001b[1m117s\u001b[0m 26ms/step - loss: 0.0088 - val_loss: 0.0074\n",
            "Epoch 49/100\n",
            "\u001b[1m4514/4514\u001b[0m \u001b[32m━━━━━━━━━━━━━━━━━━━━\u001b[0m\u001b[37m\u001b[0m \u001b[1m117s\u001b[0m 26ms/step - loss: 0.0088 - val_loss: 0.0075\n",
            "Epoch 50/100\n",
            "\u001b[1m4514/4514\u001b[0m \u001b[32m━━━━━━━━━━━━━━━━━━━━\u001b[0m\u001b[37m\u001b[0m \u001b[1m118s\u001b[0m 26ms/step - loss: 0.0087 - val_loss: 0.0074\n",
            "Epoch 51/100\n",
            "\u001b[1m4514/4514\u001b[0m \u001b[32m━━━━━━━━━━━━━━━━━━━━\u001b[0m\u001b[37m\u001b[0m \u001b[1m120s\u001b[0m 27ms/step - loss: 0.0088 - val_loss: 0.0074\n",
            "Epoch 52/100\n",
            "\u001b[1m4514/4514\u001b[0m \u001b[32m━━━━━━━━━━━━━━━━━━━━\u001b[0m\u001b[37m\u001b[0m \u001b[1m116s\u001b[0m 26ms/step - loss: 0.0086 - val_loss: 0.0074\n",
            "Epoch 53/100\n",
            "\u001b[1m4514/4514\u001b[0m \u001b[32m━━━━━━━━━━━━━━━━━━━━\u001b[0m\u001b[37m\u001b[0m \u001b[1m116s\u001b[0m 26ms/step - loss: 0.0085 - val_loss: 0.0072\n",
            "Epoch 54/100\n",
            "\u001b[1m4514/4514\u001b[0m \u001b[32m━━━━━━━━━━━━━━━━━━━━\u001b[0m\u001b[37m\u001b[0m \u001b[1m117s\u001b[0m 26ms/step - loss: 0.0085 - val_loss: 0.0073\n",
            "Epoch 55/100\n",
            "\u001b[1m4514/4514\u001b[0m \u001b[32m━━━━━━━━━━━━━━━━━━━━\u001b[0m\u001b[37m\u001b[0m \u001b[1m118s\u001b[0m 26ms/step - loss: 0.0085 - val_loss: 0.0071\n",
            "Epoch 56/100\n",
            "\u001b[1m4514/4514\u001b[0m \u001b[32m━━━━━━━━━━━━━━━━━━━━\u001b[0m\u001b[37m\u001b[0m \u001b[1m119s\u001b[0m 26ms/step - loss: 0.0085 - val_loss: 0.0071\n",
            "Epoch 57/100\n",
            "\u001b[1m4514/4514\u001b[0m \u001b[32m━━━━━━━━━━━━━━━━━━━━\u001b[0m\u001b[37m\u001b[0m \u001b[1m119s\u001b[0m 26ms/step - loss: 0.0085 - val_loss: 0.0070\n",
            "Epoch 58/100\n",
            "\u001b[1m4514/4514\u001b[0m \u001b[32m━━━━━━━━━━━━━━━━━━━━\u001b[0m\u001b[37m\u001b[0m \u001b[1m118s\u001b[0m 26ms/step - loss: 0.0083 - val_loss: 0.0072\n",
            "Epoch 59/100\n",
            "\u001b[1m4514/4514\u001b[0m \u001b[32m━━━━━━━━━━━━━━━━━━━━\u001b[0m\u001b[37m\u001b[0m \u001b[1m118s\u001b[0m 26ms/step - loss: 0.0084 - val_loss: 0.0071\n",
            "Epoch 60/100\n",
            "\u001b[1m4514/4514\u001b[0m \u001b[32m━━━━━━━━━━━━━━━━━━━━\u001b[0m\u001b[37m\u001b[0m \u001b[1m118s\u001b[0m 26ms/step - loss: 0.0083 - val_loss: 0.0071\n",
            "Epoch 61/100\n",
            "\u001b[1m4514/4514\u001b[0m \u001b[32m━━━━━━━━━━━━━━━━━━━━\u001b[0m\u001b[37m\u001b[0m \u001b[1m120s\u001b[0m 27ms/step - loss: 0.0083 - val_loss: 0.0070\n",
            "Epoch 62/100\n",
            "\u001b[1m4514/4514\u001b[0m \u001b[32m━━━━━━━━━━━━━━━━━━━━\u001b[0m\u001b[37m\u001b[0m \u001b[1m117s\u001b[0m 26ms/step - loss: 0.0083 - val_loss: 0.0070\n",
            "Epoch 63/100\n",
            "\u001b[1m4514/4514\u001b[0m \u001b[32m━━━━━━━━━━━━━━━━━━━━\u001b[0m\u001b[37m\u001b[0m \u001b[1m115s\u001b[0m 26ms/step - loss: 0.0082 - val_loss: 0.0070\n",
            "Epoch 64/100\n",
            "\u001b[1m4514/4514\u001b[0m \u001b[32m━━━━━━━━━━━━━━━━━━━━\u001b[0m\u001b[37m\u001b[0m \u001b[1m118s\u001b[0m 26ms/step - loss: 0.0083 - val_loss: 0.0072\n",
            "Epoch 65/100\n",
            "\u001b[1m4514/4514\u001b[0m \u001b[32m━━━━━━━━━━━━━━━━━━━━\u001b[0m\u001b[37m\u001b[0m \u001b[1m118s\u001b[0m 26ms/step - loss: 0.0082 - val_loss: 0.0071\n",
            "Epoch 66/100\n",
            "\u001b[1m4514/4514\u001b[0m \u001b[32m━━━━━━━━━━━━━━━━━━━━\u001b[0m\u001b[37m\u001b[0m \u001b[1m116s\u001b[0m 26ms/step - loss: 0.0082 - val_loss: 0.0070\n",
            "Epoch 67/100\n",
            "\u001b[1m4514/4514\u001b[0m \u001b[32m━━━━━━━━━━━━━━━━━━━━\u001b[0m\u001b[37m\u001b[0m \u001b[1m117s\u001b[0m 26ms/step - loss: 0.0081 - val_loss: 0.0071\n",
            "Epoch 67: early stopping\n"
          ]
        }
      ],
      "source": [
        "# Train the model\n",
        "history = model.fit(X_train, y_train, \n",
        "                    epochs=100, \n",
        "                    batch_size=32, \n",
        "                    validation_data=(X_val, y_val), \n",
        "                    callbacks=[early_stop])"
      ]
    },
    {
      "cell_type": "markdown",
      "metadata": {},
      "source": [
        "## Save ML Model"
      ]
    },
    {
      "cell_type": "code",
      "execution_count": 11,
      "metadata": {
        "colab": {
          "base_uri": "https://localhost:8080/",
          "height": 141
        },
        "id": "yS0maa9QTlfN",
        "outputId": "f49ede62-b6cf-4758-c57e-c17d369c2e97"
      },
      "outputs": [],
      "source": [
        "model.save(\"trained_lstm_model.keras\")"
      ]
    },
    {
      "cell_type": "markdown",
      "metadata": {},
      "source": [
        "## Load ML Model\n",
        "\n",
        "To be used on notebook reset to use the trained model."
      ]
    },
    {
      "cell_type": "code",
      "execution_count": 28,
      "metadata": {},
      "outputs": [
        {
          "data": {
            "text/html": [
              "<pre style=\"white-space:pre;overflow-x:auto;line-height:normal;font-family:Menlo,'DejaVu Sans Mono',consolas,'Courier New',monospace\"><span style=\"font-weight: bold\">Model: \"sequential\"</span>\n",
              "</pre>\n"
            ],
            "text/plain": [
              "\u001b[1mModel: \"sequential\"\u001b[0m\n"
            ]
          },
          "metadata": {},
          "output_type": "display_data"
        },
        {
          "data": {
            "text/html": [
              "<pre style=\"white-space:pre;overflow-x:auto;line-height:normal;font-family:Menlo,'DejaVu Sans Mono',consolas,'Courier New',monospace\">┏━━━━━━━━━━━━━━━━━━━━━━━━━━━━━━━━━┳━━━━━━━━━━━━━━━━━━━━━━━━┳━━━━━━━━━━━━━━━┓\n",
              "┃<span style=\"font-weight: bold\"> Layer (type)                    </span>┃<span style=\"font-weight: bold\"> Output Shape           </span>┃<span style=\"font-weight: bold\">       Param # </span>┃\n",
              "┡━━━━━━━━━━━━━━━━━━━━━━━━━━━━━━━━━╇━━━━━━━━━━━━━━━━━━━━━━━━╇━━━━━━━━━━━━━━━┩\n",
              "│ lstm (<span style=\"color: #0087ff; text-decoration-color: #0087ff\">LSTM</span>)                     │ (<span style=\"color: #00d7ff; text-decoration-color: #00d7ff\">None</span>, <span style=\"color: #00af00; text-decoration-color: #00af00\">49</span>, <span style=\"color: #00af00; text-decoration-color: #00af00\">50</span>)         │        <span style=\"color: #00af00; text-decoration-color: #00af00\">10,400</span> │\n",
              "├─────────────────────────────────┼────────────────────────┼───────────────┤\n",
              "│ dropout (<span style=\"color: #0087ff; text-decoration-color: #0087ff\">Dropout</span>)               │ (<span style=\"color: #00d7ff; text-decoration-color: #00d7ff\">None</span>, <span style=\"color: #00af00; text-decoration-color: #00af00\">49</span>, <span style=\"color: #00af00; text-decoration-color: #00af00\">50</span>)         │             <span style=\"color: #00af00; text-decoration-color: #00af00\">0</span> │\n",
              "├─────────────────────────────────┼────────────────────────┼───────────────┤\n",
              "│ lstm_1 (<span style=\"color: #0087ff; text-decoration-color: #0087ff\">LSTM</span>)                   │ (<span style=\"color: #00d7ff; text-decoration-color: #00d7ff\">None</span>, <span style=\"color: #00af00; text-decoration-color: #00af00\">49</span>, <span style=\"color: #00af00; text-decoration-color: #00af00\">50</span>)         │        <span style=\"color: #00af00; text-decoration-color: #00af00\">20,200</span> │\n",
              "├─────────────────────────────────┼────────────────────────┼───────────────┤\n",
              "│ dropout_1 (<span style=\"color: #0087ff; text-decoration-color: #0087ff\">Dropout</span>)             │ (<span style=\"color: #00d7ff; text-decoration-color: #00d7ff\">None</span>, <span style=\"color: #00af00; text-decoration-color: #00af00\">49</span>, <span style=\"color: #00af00; text-decoration-color: #00af00\">50</span>)         │             <span style=\"color: #00af00; text-decoration-color: #00af00\">0</span> │\n",
              "├─────────────────────────────────┼────────────────────────┼───────────────┤\n",
              "│ lstm_2 (<span style=\"color: #0087ff; text-decoration-color: #0087ff\">LSTM</span>)                   │ (<span style=\"color: #00d7ff; text-decoration-color: #00d7ff\">None</span>, <span style=\"color: #00af00; text-decoration-color: #00af00\">50</span>)             │        <span style=\"color: #00af00; text-decoration-color: #00af00\">20,200</span> │\n",
              "├─────────────────────────────────┼────────────────────────┼───────────────┤\n",
              "│ dropout_2 (<span style=\"color: #0087ff; text-decoration-color: #0087ff\">Dropout</span>)             │ (<span style=\"color: #00d7ff; text-decoration-color: #00d7ff\">None</span>, <span style=\"color: #00af00; text-decoration-color: #00af00\">50</span>)             │             <span style=\"color: #00af00; text-decoration-color: #00af00\">0</span> │\n",
              "├─────────────────────────────────┼────────────────────────┼───────────────┤\n",
              "│ dense (<span style=\"color: #0087ff; text-decoration-color: #0087ff\">Dense</span>)                   │ (<span style=\"color: #00d7ff; text-decoration-color: #00d7ff\">None</span>, <span style=\"color: #00af00; text-decoration-color: #00af00\">1</span>)              │            <span style=\"color: #00af00; text-decoration-color: #00af00\">51</span> │\n",
              "└─────────────────────────────────┴────────────────────────┴───────────────┘\n",
              "</pre>\n"
            ],
            "text/plain": [
              "┏━━━━━━━━━━━━━━━━━━━━━━━━━━━━━━━━━┳━━━━━━━━━━━━━━━━━━━━━━━━┳━━━━━━━━━━━━━━━┓\n",
              "┃\u001b[1m \u001b[0m\u001b[1mLayer (type)                   \u001b[0m\u001b[1m \u001b[0m┃\u001b[1m \u001b[0m\u001b[1mOutput Shape          \u001b[0m\u001b[1m \u001b[0m┃\u001b[1m \u001b[0m\u001b[1m      Param #\u001b[0m\u001b[1m \u001b[0m┃\n",
              "┡━━━━━━━━━━━━━━━━━━━━━━━━━━━━━━━━━╇━━━━━━━━━━━━━━━━━━━━━━━━╇━━━━━━━━━━━━━━━┩\n",
              "│ lstm (\u001b[38;5;33mLSTM\u001b[0m)                     │ (\u001b[38;5;45mNone\u001b[0m, \u001b[38;5;34m49\u001b[0m, \u001b[38;5;34m50\u001b[0m)         │        \u001b[38;5;34m10,400\u001b[0m │\n",
              "├─────────────────────────────────┼────────────────────────┼───────────────┤\n",
              "│ dropout (\u001b[38;5;33mDropout\u001b[0m)               │ (\u001b[38;5;45mNone\u001b[0m, \u001b[38;5;34m49\u001b[0m, \u001b[38;5;34m50\u001b[0m)         │             \u001b[38;5;34m0\u001b[0m │\n",
              "├─────────────────────────────────┼────────────────────────┼───────────────┤\n",
              "│ lstm_1 (\u001b[38;5;33mLSTM\u001b[0m)                   │ (\u001b[38;5;45mNone\u001b[0m, \u001b[38;5;34m49\u001b[0m, \u001b[38;5;34m50\u001b[0m)         │        \u001b[38;5;34m20,200\u001b[0m │\n",
              "├─────────────────────────────────┼────────────────────────┼───────────────┤\n",
              "│ dropout_1 (\u001b[38;5;33mDropout\u001b[0m)             │ (\u001b[38;5;45mNone\u001b[0m, \u001b[38;5;34m49\u001b[0m, \u001b[38;5;34m50\u001b[0m)         │             \u001b[38;5;34m0\u001b[0m │\n",
              "├─────────────────────────────────┼────────────────────────┼───────────────┤\n",
              "│ lstm_2 (\u001b[38;5;33mLSTM\u001b[0m)                   │ (\u001b[38;5;45mNone\u001b[0m, \u001b[38;5;34m50\u001b[0m)             │        \u001b[38;5;34m20,200\u001b[0m │\n",
              "├─────────────────────────────────┼────────────────────────┼───────────────┤\n",
              "│ dropout_2 (\u001b[38;5;33mDropout\u001b[0m)             │ (\u001b[38;5;45mNone\u001b[0m, \u001b[38;5;34m50\u001b[0m)             │             \u001b[38;5;34m0\u001b[0m │\n",
              "├─────────────────────────────────┼────────────────────────┼───────────────┤\n",
              "│ dense (\u001b[38;5;33mDense\u001b[0m)                   │ (\u001b[38;5;45mNone\u001b[0m, \u001b[38;5;34m1\u001b[0m)              │            \u001b[38;5;34m51\u001b[0m │\n",
              "└─────────────────────────────────┴────────────────────────┴───────────────┘\n"
            ]
          },
          "metadata": {},
          "output_type": "display_data"
        },
        {
          "data": {
            "text/html": [
              "<pre style=\"white-space:pre;overflow-x:auto;line-height:normal;font-family:Menlo,'DejaVu Sans Mono',consolas,'Courier New',monospace\"><span style=\"font-weight: bold\"> Total params: </span><span style=\"color: #00af00; text-decoration-color: #00af00\">152,555</span> (595.92 KB)\n",
              "</pre>\n"
            ],
            "text/plain": [
              "\u001b[1m Total params: \u001b[0m\u001b[38;5;34m152,555\u001b[0m (595.92 KB)\n"
            ]
          },
          "metadata": {},
          "output_type": "display_data"
        },
        {
          "data": {
            "text/html": [
              "<pre style=\"white-space:pre;overflow-x:auto;line-height:normal;font-family:Menlo,'DejaVu Sans Mono',consolas,'Courier New',monospace\"><span style=\"font-weight: bold\"> Trainable params: </span><span style=\"color: #00af00; text-decoration-color: #00af00\">50,851</span> (198.64 KB)\n",
              "</pre>\n"
            ],
            "text/plain": [
              "\u001b[1m Trainable params: \u001b[0m\u001b[38;5;34m50,851\u001b[0m (198.64 KB)\n"
            ]
          },
          "metadata": {},
          "output_type": "display_data"
        },
        {
          "data": {
            "text/html": [
              "<pre style=\"white-space:pre;overflow-x:auto;line-height:normal;font-family:Menlo,'DejaVu Sans Mono',consolas,'Courier New',monospace\"><span style=\"font-weight: bold\"> Non-trainable params: </span><span style=\"color: #00af00; text-decoration-color: #00af00\">0</span> (0.00 B)\n",
              "</pre>\n"
            ],
            "text/plain": [
              "\u001b[1m Non-trainable params: \u001b[0m\u001b[38;5;34m0\u001b[0m (0.00 B)\n"
            ]
          },
          "metadata": {},
          "output_type": "display_data"
        },
        {
          "data": {
            "text/html": [
              "<pre style=\"white-space:pre;overflow-x:auto;line-height:normal;font-family:Menlo,'DejaVu Sans Mono',consolas,'Courier New',monospace\"><span style=\"font-weight: bold\"> Optimizer params: </span><span style=\"color: #00af00; text-decoration-color: #00af00\">101,704</span> (397.29 KB)\n",
              "</pre>\n"
            ],
            "text/plain": [
              "\u001b[1m Optimizer params: \u001b[0m\u001b[38;5;34m101,704\u001b[0m (397.29 KB)\n"
            ]
          },
          "metadata": {},
          "output_type": "display_data"
        }
      ],
      "source": [
        "# Load the saved model\n",
        "model = load_model(\"./trained_lstm_model.keras\")\n",
        "\n",
        "# Optionally, you can check the summary of the loaded model\n",
        "model.summary()"
      ]
    },
    {
      "cell_type": "markdown",
      "metadata": {},
      "source": [
        "## Model Evaluation on Test Set"
      ]
    },
    {
      "cell_type": "code",
      "execution_count": 26,
      "metadata": {
        "id": "hzYRNI6xYWk0"
      },
      "outputs": [
        {
          "name": "stdout",
          "output_type": "stream",
          "text": [
            "\u001b[1m968/968\u001b[0m \u001b[32m━━━━━━━━━━━━━━━━━━━━\u001b[0m\u001b[37m\u001b[0m \u001b[1m6s\u001b[0m 6ms/step - loss: 0.0071\n",
            "Test Loss: 0.007138872519135475\n"
          ]
        }
      ],
      "source": [
        "# Evaluate the model\n",
        "loss = model.evaluate(X_test, y_test)\n",
        "print(\"Test Loss:\", loss)"
      ]
    },
    {
      "cell_type": "code",
      "execution_count": 35,
      "metadata": {
        "id": "PpMh24veYWk1"
      },
      "outputs": [
        {
          "name": "stdout",
          "output_type": "stream",
          "text": [
            "\u001b[1m968/968\u001b[0m \u001b[32m━━━━━━━━━━━━━━━━━━━━\u001b[0m\u001b[37m\u001b[0m \u001b[1m6s\u001b[0m 7ms/step\n"
          ]
        }
      ],
      "source": [
        "# Make predictions\n",
        "predictions = model.predict(X_test)"
      ]
    },
    {
      "cell_type": "code",
      "execution_count": 36,
      "metadata": {
        "id": "3xKXHmKeYWk1"
      },
      "outputs": [
        {
          "data": {
            "image/png": "[encoded data removed]",
            "text/plain": [
              "<Figure size 1000x600 with 1 Axes>"
            ]
          },
          "metadata": {},
          "output_type": "display_data"
        }
      ],
      "source": [
        "# Visualize predictions against actual values\n",
        "plt.figure(figsize=(10, 6))\n",
        "plt.plot(y_test, label='Actual')\n",
        "plt.plot(predictions, label='Predicted')\n",
        "plt.title('Actual vs Predicted')\n",
        "plt.xlabel('Samples')\n",
        "plt.ylabel('Resale Price')\n",
        "plt.legend()\n",
        "plt.show()"
      ]
    },
    {
      "cell_type": "code",
      "execution_count": 37,
      "metadata": {},
      "outputs": [
        {
          "data": {
            "image/png": "[encoded data removed]",
            "text/plain": [
              "<Figure size 1000x600 with 1 Axes>"
            ]
          },
          "metadata": {},
          "output_type": "display_data"
        },
        {
          "name": "stdout",
          "output_type": "stream",
          "text": [
            "R² Score: 0.93\n",
            "Mean Absolute Error (MAE): 0.06\n",
            "Mean Squared Error (MSE): 0.01\n",
            "Root Mean Squared Error (RMSE): 0.08\n",
            "Mean Absolute Percentage Error (MAPE): 2.89%\n"
          ]
        }
      ],
      "source": [
        "# Calculate Mean Absolute Percentage Error (MAPE)\n",
        "def mean_absolute_percentage_error(y_true, y_pred): \n",
        "    y_true, y_pred = np.array(y_true), np.array(y_pred)\n",
        "    return np.mean(np.abs((y_true - y_pred) / y_true)) * 100\n",
        "\n",
        "r2 = r2_score(y_test, predictions)\n",
        "mae = mean_absolute_error(y_test, predictions)\n",
        "mse = mean_squared_error(y_test, predictions)\n",
        "rmse = np.sqrt(mse)\n",
        "mape = mean_absolute_percentage_error(y_test, predictions)\n",
        "\n",
        "# Scatter plot\n",
        "plt.figure(figsize=(10, 6))\n",
        "plt.scatter(y_test, predictions, color='blue', label='Predicted vs True')\n",
        "plt.plot([min(y_test), max(y_test)], [min(y_test), max(y_test)], color='red', linestyle='--', label='Perfect Prediction')\n",
        "plt.title('Predicted vs True Values')\n",
        "plt.xlabel('True Values')\n",
        "plt.ylabel('Predicted Values')\n",
        "plt.legend()\n",
        "plt.grid(True)\n",
        "plt.show()\n",
        "\n",
        "# Print evaluation metrics\n",
        "print(\"R² Score: {:.2f}\".format(r2))\n",
        "print(\"Mean Absolute Error (MAE): {:.2f}\".format(mae))\n",
        "print(\"Mean Squared Error (MSE): {:.2f}\".format(mse))\n",
        "print(\"Root Mean Squared Error (RMSE): {:.2f}\".format(rmse))\n",
        "print(\"Mean Absolute Percentage Error (MAPE): {:.2f}%\".format(mape))"
      ]
    },
    {
      "cell_type": "markdown",
      "metadata": {},
      "source": [
        "#### Evaluation\n",
        "It seems that there is a wider dispersion of predicted values around the true values within the range of 12.75 to 13.25. This might be attributed to the presence of a greater number of data points falling within that interval."
      ]
    },
    {
      "cell_type": "markdown",
      "metadata": {
        "id": "w08D1KPuxOlP"
      },
      "source": [
        "## Model Evaluation on New Dataset"
      ]
    },
    {
      "cell_type": "markdown",
      "metadata": {},
      "source": [
        "### New Dataset Examination"
      ]
    },
    {
      "cell_type": "code",
      "execution_count": 10,
      "metadata": {
        "id": "3-FwobHhu9Ea"
      },
      "outputs": [
        {
          "data": {
            "text/html": [
              "<div>\n",
              "<style scoped>\n",
              "    .dataframe tbody tr th:only-of-type {\n",
              "        vertical-align: middle;\n",
              "    }\n",
              "\n",
              "    .dataframe tbody tr th {\n",
              "        vertical-align: top;\n",
              "    }\n",
              "\n",
              "    .dataframe thead th {\n",
              "        text-align: right;\n",
              "    }\n",
              "</style>\n",
              "<table border=\"1\" class=\"dataframe\">\n",
              "  <thead>\n",
              "    <tr style=\"text-align: right;\">\n",
              "      <th></th>\n",
              "      <th>storey_range</th>\n",
              "      <th>resale_price</th>\n",
              "      <th>latitude</th>\n",
              "      <th>longitude</th>\n",
              "      <th>year</th>\n",
              "      <th>town_BEDOK</th>\n",
              "      <th>town_BISHAN</th>\n",
              "      <th>town_BUKIT BATOK</th>\n",
              "      <th>town_BUKIT MERAH</th>\n",
              "      <th>town_BUKIT PANJANG</th>\n",
              "      <th>...</th>\n",
              "      <th>flat_model_Standard</th>\n",
              "      <th>flat_model_Terrace</th>\n",
              "      <th>flat_model_Type S1</th>\n",
              "      <th>flat_model_Type S2</th>\n",
              "      <th>floor_area_sqm</th>\n",
              "      <th>remaining_lease</th>\n",
              "      <th>sora</th>\n",
              "      <th>bto_supply_within_4km</th>\n",
              "      <th>distance2cbd</th>\n",
              "      <th>poi_vector_average</th>\n",
              "    </tr>\n",
              "  </thead>\n",
              "  <tbody>\n",
              "    <tr>\n",
              "      <th>0</th>\n",
              "      <td>2</td>\n",
              "      <td>12.570716</td>\n",
              "      <td>1.373346</td>\n",
              "      <td>103.836459</td>\n",
              "      <td>2024</td>\n",
              "      <td>0</td>\n",
              "      <td>0</td>\n",
              "      <td>0</td>\n",
              "      <td>0</td>\n",
              "      <td>0</td>\n",
              "      <td>...</td>\n",
              "      <td>0</td>\n",
              "      <td>0</td>\n",
              "      <td>0</td>\n",
              "      <td>0</td>\n",
              "      <td>-2.211786</td>\n",
              "      <td>-1.607778</td>\n",
              "      <td>2.175147</td>\n",
              "      <td>-0.970227</td>\n",
              "      <td>-0.563772</td>\n",
              "      <td>-0.375705</td>\n",
              "    </tr>\n",
              "    <tr>\n",
              "      <th>1</th>\n",
              "      <td>1</td>\n",
              "      <td>12.683858</td>\n",
              "      <td>1.373401</td>\n",
              "      <td>103.849073</td>\n",
              "      <td>2024</td>\n",
              "      <td>0</td>\n",
              "      <td>0</td>\n",
              "      <td>0</td>\n",
              "      <td>0</td>\n",
              "      <td>0</td>\n",
              "      <td>...</td>\n",
              "      <td>0</td>\n",
              "      <td>0</td>\n",
              "      <td>0</td>\n",
              "      <td>0</td>\n",
              "      <td>-2.211786</td>\n",
              "      <td>-1.448652</td>\n",
              "      <td>2.175147</td>\n",
              "      <td>-0.345136</td>\n",
              "      <td>-0.596351</td>\n",
              "      <td>-0.340607</td>\n",
              "    </tr>\n",
              "    <tr>\n",
              "      <th>2</th>\n",
              "      <td>0</td>\n",
              "      <td>13.161584</td>\n",
              "      <td>1.365266</td>\n",
              "      <td>103.844538</td>\n",
              "      <td>2024</td>\n",
              "      <td>0</td>\n",
              "      <td>0</td>\n",
              "      <td>0</td>\n",
              "      <td>0</td>\n",
              "      <td>0</td>\n",
              "      <td>...</td>\n",
              "      <td>0</td>\n",
              "      <td>0</td>\n",
              "      <td>0</td>\n",
              "      <td>0</td>\n",
              "      <td>-1.130791</td>\n",
              "      <td>1.012438</td>\n",
              "      <td>2.175147</td>\n",
              "      <td>-0.810390</td>\n",
              "      <td>-0.795211</td>\n",
              "      <td>0.634423</td>\n",
              "    </tr>\n",
              "    <tr>\n",
              "      <th>3</th>\n",
              "      <td>8</td>\n",
              "      <td>13.384728</td>\n",
              "      <td>1.365266</td>\n",
              "      <td>103.844538</td>\n",
              "      <td>2024</td>\n",
              "      <td>0</td>\n",
              "      <td>0</td>\n",
              "      <td>0</td>\n",
              "      <td>0</td>\n",
              "      <td>0</td>\n",
              "      <td>...</td>\n",
              "      <td>0</td>\n",
              "      <td>0</td>\n",
              "      <td>0</td>\n",
              "      <td>0</td>\n",
              "      <td>-1.130791</td>\n",
              "      <td>1.012438</td>\n",
              "      <td>2.175147</td>\n",
              "      <td>-0.810390</td>\n",
              "      <td>-0.795211</td>\n",
              "      <td>0.634423</td>\n",
              "    </tr>\n",
              "    <tr>\n",
              "      <th>4</th>\n",
              "      <td>1</td>\n",
              "      <td>12.747815</td>\n",
              "      <td>1.366048</td>\n",
              "      <td>103.838123</td>\n",
              "      <td>2024</td>\n",
              "      <td>0</td>\n",
              "      <td>0</td>\n",
              "      <td>0</td>\n",
              "      <td>0</td>\n",
              "      <td>0</td>\n",
              "      <td>...</td>\n",
              "      <td>0</td>\n",
              "      <td>0</td>\n",
              "      <td>0</td>\n",
              "      <td>0</td>\n",
              "      <td>-1.255521</td>\n",
              "      <td>-1.639909</td>\n",
              "      <td>2.175147</td>\n",
              "      <td>-0.940479</td>\n",
              "      <td>-0.753589</td>\n",
              "      <td>0.053899</td>\n",
              "    </tr>\n",
              "  </tbody>\n",
              "</table>\n",
              "<p>5 rows × 51 columns</p>\n",
              "</div>"
            ],
            "text/plain": [
              "   storey_range  resale_price  latitude   longitude  year  town_BEDOK  \\\n",
              "0             2     12.570716  1.373346  103.836459  2024           0   \n",
              "1             1     12.683858  1.373401  103.849073  2024           0   \n",
              "2             0     13.161584  1.365266  103.844538  2024           0   \n",
              "3             8     13.384728  1.365266  103.844538  2024           0   \n",
              "4             1     12.747815  1.366048  103.838123  2024           0   \n",
              "\n",
              "   town_BISHAN  town_BUKIT BATOK  town_BUKIT MERAH  town_BUKIT PANJANG  ...  \\\n",
              "0            0                 0                 0                   0  ...   \n",
              "1            0                 0                 0                   0  ...   \n",
              "2            0                 0                 0                   0  ...   \n",
              "3            0                 0                 0                   0  ...   \n",
              "4            0                 0                 0                   0  ...   \n",
              "\n",
              "   flat_model_Standard  flat_model_Terrace  flat_model_Type S1  \\\n",
              "0                    0                   0                   0   \n",
              "1                    0                   0                   0   \n",
              "2                    0                   0                   0   \n",
              "3                    0                   0                   0   \n",
              "4                    0                   0                   0   \n",
              "\n",
              "   flat_model_Type S2  floor_area_sqm  remaining_lease      sora  \\\n",
              "0                   0       -2.211786        -1.607778  2.175147   \n",
              "1                   0       -2.211786        -1.448652  2.175147   \n",
              "2                   0       -1.130791         1.012438  2.175147   \n",
              "3                   0       -1.130791         1.012438  2.175147   \n",
              "4                   0       -1.255521        -1.639909  2.175147   \n",
              "\n",
              "   bto_supply_within_4km  distance2cbd  poi_vector_average  \n",
              "0              -0.970227     -0.563772           -0.375705  \n",
              "1              -0.345136     -0.596351           -0.340607  \n",
              "2              -0.810390     -0.795211            0.634423  \n",
              "3              -0.810390     -0.795211            0.634423  \n",
              "4              -0.940479     -0.753589            0.053899  \n",
              "\n",
              "[5 rows x 51 columns]"
            ]
          },
          "execution_count": 10,
          "metadata": {},
          "output_type": "execute_result"
        }
      ],
      "source": [
        "test_data = pd.read_csv('./data/train-test/2024-data.csv')\n",
        "test_data.head()"
      ]
    },
    {
      "cell_type": "code",
      "execution_count": 11,
      "metadata": {
        "id": "Xr1MYRgTxy9Z"
      },
      "outputs": [
        {
          "name": "stdout",
          "output_type": "stream",
          "text": [
            "storey_range                           int64\n",
            "resale_price                         float64\n",
            "latitude                             float64\n",
            "longitude                            float64\n",
            "year                                   int64\n",
            "town_BEDOK                             int64\n",
            "town_BISHAN                            int64\n",
            "town_BUKIT BATOK                       int64\n",
            "town_BUKIT MERAH                       int64\n",
            "town_BUKIT PANJANG                     int64\n",
            "town_BUKIT TIMAH                       int64\n",
            "town_CENTRAL AREA                      int64\n",
            "town_CHOA CHU KANG                     int64\n",
            "town_CLEMENTI                          int64\n",
            "town_GEYLANG                           int64\n",
            "town_HOUGANG                           int64\n",
            "town_JURONG EAST                       int64\n",
            "town_JURONG WEST                       int64\n",
            "town_KALLANG/WHAMPOA                   int64\n",
            "town_MARINE PARADE                     int64\n",
            "town_PASIR RIS                         int64\n",
            "town_PUNGGOL                           int64\n",
            "town_QUEENSTOWN                        int64\n",
            "town_SEMBAWANG                         int64\n",
            "town_SENGKANG                          int64\n",
            "town_SERANGOON                         int64\n",
            "town_TAMPINES                          int64\n",
            "town_TOA PAYOH                         int64\n",
            "town_WOODLANDS                         int64\n",
            "town_YISHUN                            int64\n",
            "flat_model_Apartment                   int64\n",
            "flat_model_DBSS                        int64\n",
            "flat_model_Improved                    int64\n",
            "flat_model_Maisonette                  int64\n",
            "flat_model_Model A                     int64\n",
            "flat_model_Model A2                    int64\n",
            "flat_model_New Generation              int64\n",
            "flat_model_Others                      int64\n",
            "flat_model_Premium Apartment           int64\n",
            "flat_model_Premium Apartment Loft      int64\n",
            "flat_model_Simplified                  int64\n",
            "flat_model_Standard                    int64\n",
            "flat_model_Terrace                     int64\n",
            "flat_model_Type S1                     int64\n",
            "flat_model_Type S2                     int64\n",
            "floor_area_sqm                       float64\n",
            "remaining_lease                      float64\n",
            "sora                                 float64\n",
            "bto_supply_within_4km                float64\n",
            "distance2cbd                         float64\n",
            "poi_vector_average                   float64\n",
            "dtype: object\n"
          ]
        }
      ],
      "source": [
        "print(test_data.dtypes)"
      ]
    },
    {
      "cell_type": "markdown",
      "metadata": {},
      "source": [
        "### Model Evaluation"
      ]
    },
    {
      "cell_type": "code",
      "execution_count": 12,
      "metadata": {
        "id": "NM2xmmL3vZlm"
      },
      "outputs": [
        {
          "name": "stdout",
          "output_type": "stream",
          "text": [
            "\u001b[1m159/159\u001b[0m \u001b[32m━━━━━━━━━━━━━━━━━━━━\u001b[0m\u001b[37m\u001b[0m \u001b[1m1s\u001b[0m 7ms/step\n"
          ]
        }
      ],
      "source": [
        "# Assuming X_2040 and y_2040 are your preprocessed features and target for the 2040-data.csv file\n",
        "X_2040 = test_data.drop(columns=['resale_price'])\n",
        "y_2040 = test_data['resale_price']\n",
        "\n",
        "# Predict prices using the trained model\n",
        "predicted_prices = model.predict(X_2040)"
      ]
    },
    {
      "cell_type": "code",
      "execution_count": 13,
      "metadata": {},
      "outputs": [
        {
          "data": {
            "image/png": "[encoded data removed]",
            "text/plain": [
              "<Figure size 1000x600 with 1 Axes>"
            ]
          },
          "metadata": {},
          "output_type": "display_data"
        },
        {
          "name": "stdout",
          "output_type": "stream",
          "text": [
            "R² Score: 0.94\n",
            "Mean Absolute Error (MAE): 0.05\n",
            "Mean Squared Error (MSE): 0.01\n",
            "Root Mean Squared Error (RMSE): 0.07\n",
            "Mean Absolute Percentage Error (MAPE): 2.58%\n"
          ]
        }
      ],
      "source": [
        "# Calculate Mean Absolute Percentage Error (MAPE)\n",
        "def mean_absolute_percentage_error(y_true, y_pred): \n",
        "    y_true, y_pred = np.array(y_true), np.array(y_pred)\n",
        "    return np.mean(np.abs((y_true - y_pred) / y_true)) * 100\n",
        "\n",
        "r2 = r2_score(y_2040, predicted_prices)\n",
        "mae = mean_absolute_error(y_2040, predicted_prices)\n",
        "mse = mean_squared_error(y_2040, predicted_prices)\n",
        "rmse = np.sqrt(mse)\n",
        "mape = mean_absolute_percentage_error(y_2040, predicted_prices)\n",
        "\n",
        "# Scatter plot\n",
        "plt.figure(figsize=(10, 6))\n",
        "plt.scatter(y_2040, predicted_prices, color='blue', label='Predicted vs True')\n",
        "plt.plot([min(y_2040), max(y_2040)], [min(y_2040), max(y_2040)], color='red', linestyle='--', label='Perfect Prediction')\n",
        "plt.title('Predicted vs True Values')\n",
        "plt.xlabel('True Values')\n",
        "plt.ylabel('Predicted Values')\n",
        "plt.legend()\n",
        "plt.grid(True)\n",
        "plt.show()\n",
        "\n",
        "# Print evaluation metrics\n",
        "print(\"R² Score: {:.2f}\".format(r2))\n",
        "print(\"Mean Absolute Error (MAE): {:.2f}\".format(mae))\n",
        "print(\"Mean Squared Error (MSE): {:.2f}\".format(mse))\n",
        "print(\"Root Mean Squared Error (RMSE): {:.2f}\".format(rmse))\n",
        "print(\"Mean Absolute Percentage Error (MAPE): {:.2f}%\".format(mape))"
      ]
    },
    {
      "cell_type": "markdown",
      "metadata": {},
      "source": [
        "#### Evaluation\n",
        "\n",
        "It seems that there is a more uniform dispersion of predicted values around the perfect prediction. There are however a few outlier points that can be found on the chart such as one at 11.5 true value but with a high predicted value at 13.25. "
      ]
    }
  ],
  "metadata": {
    "colab": {
      "provenance": []
    },
    "kernelspec": {
      "display_name": "base",
      "language": "python",
      "name": "python3"
    },
    "language_info": {
      "codemirror_mode": {
        "name": "ipython",
        "version": 3
      },
      "file_extension": ".py",
      "mimetype": "text/x-python",
      "name": "python",
      "nbconvert_exporter": "python",
      "pygments_lexer": "ipython3",
      "version": "3.11.8"
    }
  },
  "nbformat": 4,
  "nbformat_minor": 0
}
